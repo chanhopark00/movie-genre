{
 "cells": [
  {
   "cell_type": "code",
   "execution_count": 3,
   "metadata": {},
   "outputs": [],
   "source": [
    "import pandas as pd\n",
    "import ast\n",
    "import itertools\n",
    "import numpy as np\n",
    "import matplotlib\n",
    "import matplotlib.pyplot as plt\n",
    "%matplotlib inline\n",
    "import seaborn as sns\n",
    "import urllib.request\n",
    "import cv2\n"
   ]
  },
  {
   "cell_type": "code",
   "execution_count": 4,
   "metadata": {},
   "outputs": [],
   "source": [
    "image_data = pd.read_csv('image_data.csv')"
   ]
  },
  {
   "cell_type": "code",
   "execution_count": null,
   "metadata": {},
   "outputs": [],
   "source": [
    "\n",
    "image_data2 = pd.DataFrame(columns = [\"genre\", \"poster\"]) \n",
    "\n",
    "for index, row in image_data.iterrows():\n",
    "    if index in [2500, 5000, 7500, 10000, 12500, 15000, 17500, 20000, 22500, 25000, 27500, 30000, 32500, 35000, 37500, 40000, 42500]:\n",
    "        print(index)\n",
    "    genre = ast.literal_eval(row[1])\n",
    "    im = cv2.imread(\"images/\"+str(index)+\".jpg\")\n",
    "    im = cv2.resize(im, (185, 278))\n",
    "#     im = cv2.normalize(im, None, 1, 0, cv2.NORM_MINMAX, dtype=cv2.CV_32F)\n",
    "    \n",
    "    row = pd.DataFrame({\"genre\":[genre], \"poster\":[im]})\n",
    "    \n",
    "    image_data2 = image_data2.append(row, ignore_index = True)\n",
    "    \n"
   ]
  },
  {
   "cell_type": "code",
   "execution_count": 5,
   "metadata": {},
   "outputs": [],
   "source": [
    "def convert(data, genres):\n",
    "    out = [0]* len(genres)\n",
    "    for i in enumerate(data):\n",
    "        out[genres.index(i[1])] = 1\n",
    "    return tuple(out)\n",
    "\n",
    "def load_data(data,genres):\n",
    "    x = data['poster']\n",
    "    y = data['genre']\n",
    "    y = y.apply(convert, args=(genres,))\n",
    "    return x,y\n"
   ]
  },
  {
   "cell_type": "code",
   "execution_count": null,
   "metadata": {},
   "outputs": [],
   "source": [
    "x,y = load_data(image_data2, genres)\n",
    "x_and_y = pd.concat([x, y], axis = 1)\n",
    "x_and_y = x_and_y[x_and_y.genre.duplicated(keep=False)]\n",
    "\n",
    "x = x_and_y['poster']\n",
    "y = x_and_y['genre']\n",
    "\n",
    "X_train,X_test,y_train,y_test = train_test_split(x,y,random_state=100,stratify=y,test_size=.15)"
   ]
  }
 ],
 "metadata": {
  "kernelspec": {
   "display_name": "Python 3",
   "language": "python",
   "name": "python3"
  },
  "language_info": {
   "codemirror_mode": {
    "name": "ipython",
    "version": 3
   },
   "file_extension": ".py",
   "mimetype": "text/x-python",
   "name": "python",
   "nbconvert_exporter": "python",
   "pygments_lexer": "ipython3",
   "version": "3.7.1"
  }
 },
 "nbformat": 4,
 "nbformat_minor": 2
}
